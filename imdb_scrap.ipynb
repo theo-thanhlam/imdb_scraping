{
 "cells": [
  {
   "cell_type": "code",
   "execution_count": 24,
   "metadata": {},
   "outputs": [],
   "source": [
    "import requests\n",
    "from bs4 import BeautifulSoup\n",
    "import pandas as pd\n"
   ]
  },
  {
   "cell_type": "code",
   "execution_count": 25,
   "metadata": {},
   "outputs": [],
   "source": [
    "sites = [\"top\", \"top-english-movies\",  \"toptv\", \"bottom\"]\n",
    "url = 'https://www.imdb.com/chart/' \n",
    "csv_name = \"imdb_\""
   ]
  },
  {
   "cell_type": "code",
   "execution_count": 26,
   "metadata": {},
   "outputs": [],
   "source": [
    "def get_years_list(year_tags):\n",
    "    return [year.text.strip(\"()\") for year in year_tags]\n",
    "\n",
    "def get_actors_list(actor_tags):\n",
    "    return [tag['title'] for tag in actor_tags]\n",
    "    \n",
    "def get_titles_list(actor_tags):\n",
    "    return [tag.text for tag in actor_tags]\n",
    "\n",
    "def get_rating_list(rating_tags):\n",
    "    return [tag.text for tag in rating_tags]\n",
    "\n",
    "def export_to_csv(df, title):\n",
    "    return df.to_csv(title)"
   ]
  },
  {
   "cell_type": "code",
   "execution_count": null,
   "metadata": {},
   "outputs": [],
   "source": [
    "for site in sites :\n",
    "       \n",
    "    url_link = url + site +\"/\"\n",
    "\n",
    "    file_name = csv_name + site +\".csv\"\n",
    "\n",
    "    print(url_link +\"\\n\"+file_name)\n",
    "        #access URL and get html\n",
    "    response = requests.get(url_link)\n",
    "    html = response.text\n",
    "            \n",
    "            #get movies tag\n",
    "    soup = BeautifulSoup(html, \"html.parser\")\n",
    "            \n",
    "            #Tags that get movie titles, actors, years\n",
    "    movie_tag_for_title_actors = soup.select(\"td.titleColumn a\")\n",
    "    movie_tag_for_years = soup.select(\"td.titleColumn span\")\n",
    "            \n",
    "            #Tags that get movie rating\n",
    "    movie_rating_tags = soup.select(\"td.imdbRating strong\")\n",
    "        \n",
    "       \n",
    "        \n",
    "        #Create dataframe with these value\n",
    "    df = pd.DataFrame({\n",
    "    \"title\": get_titles_list(movie_tag_for_title_actors),\n",
    "    \"actor\": get_actors_list(movie_tag_for_title_actors),\n",
    "    \"year\":get_years_list(movie_tag_for_years),\n",
    "    'rating':get_rating_list(movie_rating_tags)\n",
    "    })\n",
    "        \n",
    "    export_to_csv(df,file_name)\n",
    "        \n",
    "    \n",
    "    \n",
    "    "
   ]
  },
  {
   "cell_type": "code",
   "execution_count": null,
   "metadata": {},
   "outputs": [],
   "source": []
  }
 ],
 "metadata": {
  "kernelspec": {
   "display_name": "Python 3.8.3 32-bit",
   "language": "python",
   "name": "python3"
  },
  "language_info": {
   "codemirror_mode": {
    "name": "ipython",
    "version": 3
   },
   "file_extension": ".py",
   "mimetype": "text/x-python",
   "name": "python",
   "nbconvert_exporter": "python",
   "pygments_lexer": "ipython3",
   "version": "3.8.3"
  },
  "orig_nbformat": 4,
  "vscode": {
   "interpreter": {
    "hash": "6d1e45cadc3597bb8b6600530fbdf8c3eefe919a24ef54d9d32b318795b772e0"
   }
  }
 },
 "nbformat": 4,
 "nbformat_minor": 2
}
